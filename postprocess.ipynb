{
 "cells": [
  {
   "cell_type": "code",
   "execution_count": 43,
   "metadata": {},
   "outputs": [],
   "source": [
    "# Read XMI standoff annotation file and convert it into a typical XML text. \n",
    "# We can then convert that XML text into an information tree by ignoring all information outside of nodes.\n",
    "# As a goal, extract NER information in two formats:\n",
    "# short spans (SSRQ-like)\n",
    "# long spans (Königsfelden-like)\n",
    "\n",
    "from xml.sax.saxutils import escape"
   ]
  },
  {
   "cell_type": "code",
   "execution_count": 65,
   "id": "2b39533d",
   "metadata": {},
   "outputs": [],
   "source": [
    "\n",
    "# Read all spans in the order of the XMI file. (Should be sorted by start index > end index)\n",
    "from lxml import etree as et\n",
    "\n",
    "root = et.Element(\"info\", nsmap={\"custom\":\"http:///custom.ecore\", \"cas\":\"http:///uima/cas.ecore\"})\n",
    "\n",
    "infile = et.parse(\"HGB_1_122_035_006.xmi\")\n",
    "in_root = infile.getroot()\n",
    "\n",
    "text_node = in_root.find(\"./cas:Sofa\", namespaces={\"cas\":\"http:///uima/cas.ecore\"})\n",
    "document_text = text_node.get(\"sofaString\")\n",
    "original_length = len(document_text)\n",
    "\n",
    "entities = in_root.findall(\".//custom:Span\", namespaces={\"custom\":\"http:///custom.ecore\"})\n",
    "\n",
    "# sort list\n",
    "# note which entity and which tag, start or end, needs to be inserted at this point\n",
    "sorted_entities = []\n",
    "for ent in entities:\n",
    "    sorted_entities.append((ent, ent.get(\"begin\"), \"start\"))\n",
    "    sorted_entities.append((ent, ent.get(\"end\"), \"end\"))\n",
    "\n",
    "sorted_entities.sort(key=lambda x: int(x[1]))\n",
    "\n",
    "# take the document text and enter the tags, count indices backwards so inserted tags will not change the indices\n",
    "for entity, index, type in sorted_entities:\n",
    "    if type == \"start\":\n",
    "        # enter start tag\n",
    "        inverse_index = int(entity.get(\"begin\")) - original_length\n",
    "        document_text = document_text[:inverse_index] + f\"<Span label='{entity.get('label')}'>\" + document_text[inverse_index:]\n",
    "    else:\n",
    "        # enter end tag\n",
    "        inverse_index = int(entity.get(\"end\")) - original_length\n",
    "        document_text = document_text[:inverse_index] + \"</Span>\" + document_text[inverse_index:]\n",
    "\n",
    "document_text = document_text.replace(\"&\", \"&amp;\")\n",
    "out_root = et.fromstring(\"<XML>\" + document_text + \"</XML>\")\n",
    "out_tree = et.ElementTree(out_root)"
   ]
  },
  {
   "cell_type": "code",
   "execution_count": 64,
   "id": "4fc560e0",
   "metadata": {},
   "outputs": [],
   "source": [
    "#import pprint as pp\n",
    "\n",
    "out_tree.write('output.xml', pretty_print=True)"
   ]
  },
  {
   "cell_type": "code",
   "execution_count": null,
   "id": "d8104e52",
   "metadata": {},
   "outputs": [],
   "source": [
    "# we need to fill in some elements that are missing at the moment: \n",
    "# TODO: Add head elements where we left them away for easier tagging\n",
    "# TODO: We may need to reorder tags when head and an element that covers the same range are misordered (one head will be missing anyways in that case)"
   ]
  },
  {
   "cell_type": "code",
   "execution_count": 78,
   "id": "7a2b6ba3",
   "metadata": {},
   "outputs": [
    {
     "name": "stdout",
     "output_type": "stream",
     "text": [
      "b'<Span label=\"NAM.PER.SGL\"><Span label=\"att.title\">Frau</Span> <Span label=\"head\">Agnes Hoffassin</Span></Span> u . '\n",
      "Frau Agnes Hoffassin\n",
      "Agnes Hoffassin\n",
      "b'<Span label=\"NAM.PER.SGL\"><Span label=\"head\">E&#252;nnelin</Span> <Span label=\"attr.rel\">urtochter</Span></Span> mit\\n'\n",
      "Eünnelin urtochter\n",
      "Eünnelin\n",
      "b'<Span label=\"NAM.PER.SGL\"><Span label=\"head\">Heuruhen Samlin</Span> <Span label=\"att.job\">dem <Span label=\"head\">gewantman</Span></Span> <Span label=\"att.rel\"><Span label=\"PRO.PER.SGL\">derselben</Span> <Span label=\"head\">Eemcoleman</Span></Span></Span>\\nDerkaufen an '\n",
      "Heuruhen Samlin dem gewantman derselben Eemcoleman\n",
      "Heuruhen Samlin\n",
      "b'<Span label=\"NAM.PER.SGL\"><Span label=\"head\">Hannsen Jsenlin</Span> <Span label=\"att.job\">den Kramer</Span></Span> , u\\n'\n",
      "Hannsen Jsenlin den Kramer\n",
      "Hannsen Jsenlin\n",
      "b'<Span label=\"NAM.PER.SGL\"><Span label=\"att.rel\"><Span label=\"PRO.PER.SGL\">seine</Span> <Span label=\"head\">Frau</Span></Span> <Span label=\"head\">Atgnesen</Span></Span> , '\n",
      "seine Frau Atgnesen\n",
      "Atgnesen\n",
      "b'<Span label=\"NAM.FAC\"><Span label=\"head\">Kornmarge</Span></Span>'\n",
      "Kornmarge\n",
      "Kornmarge\n",
      "b'<Span label=\"NAM.PER.SGL\"><Span label=\"head\">Peter Rden</Span> <Span label=\"att.title\">ritter</Span></Span> 6 &#8468;\\nu . 2ring brotze wisung , &#432; 6sherschatz , sonstfei .\\nsum 550 fl .\\n'\n",
      "Peter Rden ritter\n",
      "Peter Rden\n",
      "b'<Span label=\"att.alias\">genant <Span label=\"head\">zem Herhorn</Span></Span> &#432; '\n",
      "genant zem Herhorn\n",
      "zem Herhorn\n",
      "b'<Span label=\"att.alias\">genant <Span label=\"head\">zer feyssen Henen</Span></Span>'\n",
      "genant zer feyssen Henen\n",
      "zer feyssen Henen\n",
      "b'<Span label=\"att.alias\">genant <Span label=\"head\">Berners\\nhuse</Span></Span>'\n",
      "genant Berners\n",
      "huse\n",
      "Berners\n",
      "huse\n"
     ]
    }
   ],
   "source": [
    "# now collect all NAM entities\n",
    "\n",
    "#nes = out_root.findall(\".//Span\")\n",
    "nes = out_root.xpath(\".//Span[contains(@label,'NAM')]\")\n",
    "\n",
    "for ne in nes:\n",
    "    print(et.tostring(ne))\n",
    "    print(''.join(ne.itertext()))\n",
    "    # only collect the head\n",
    "    head_node = ne.find(\"./Span[@label='head']\")\n",
    "    print(head_node.text)\n",
    "\n",
    "alias = out_root.xpath(\".//Span[contains(@label,'att.alias')]\")\n",
    "for ne in alias:\n",
    "    print(et.tostring(ne))\n",
    "    print(''.join(ne.itertext()))\n",
    "    # only collect the head\n",
    "    head_node = ne.find(\"./Span[@label='head']\")\n",
    "    print(head_node.text)"
   ]
  }
 ],
 "metadata": {
  "kernelspec": {
   "display_name": "Python 3",
   "language": "python",
   "name": "python3"
  },
  "language_info": {
   "codemirror_mode": {
    "name": "ipython",
    "version": 3
   },
   "file_extension": ".py",
   "mimetype": "text/x-python",
   "name": "python",
   "nbconvert_exporter": "python",
   "pygments_lexer": "ipython3",
   "version": "3.8.10"
  }
 },
 "nbformat": 4,
 "nbformat_minor": 5
}
