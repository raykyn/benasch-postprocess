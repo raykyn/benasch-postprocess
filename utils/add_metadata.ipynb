{
 "cells": [
  {
   "cell_type": "markdown",
   "metadata": {},
   "source": [
    "- ID / Dateiname / Identifier\n",
    "- Datum des Postprocessings (genauer kriegen wirs halt nicht)\n",
    "- Art der Annotation (händisch, automatisch)\n",
    "\t- Falls Händisch: Wer? Projekt?\n",
    "\t- Falls Automatisch: Architektur? Modell?\n",
    "- Version (?)\n",
    "- Dokument-Infos\n",
    "\t- Erstellungsdatum\n",
    "\n",
    "Identifier:\n",
    "<fileDesc>\n",
    " <titleStmt>\n",
    "  <title>HGB-Identifier</title>\n",
    " </titleStmt>\n",
    " <publicationStmt>\n",
    "  <p>Processed and released to be used privately</p>\n",
    " </publicationStmt>\n",
    " <sourceDesc>\n",
    "  <p>Identifier converted to Staatsarchiv ID</p>\n",
    " </sourceDesc>\n",
    "</fileDesc>\n",
    "\n",
    "Datum des Postprocessings:\n",
    "<revisionDesc status=\"embargoed\">\n",
    " <change when=\"1991-11-11\" who=\"#LB\"> deleted chapter 10 </change>\n",
    "</revisionDesc>\n",
    "\n",
    "Händisches Annotieren:\n",
    "<titleStmt>\n",
    " <title>Capgrave's Life of St. John Norbert: a machine-readable transcription</title>\n",
    " <respStmt>\n",
    "  <resp>compiled by</resp>\n",
    "  <name>P.J. Lucas</name>\n",
    " </respStmt>\n",
    "</titleStmt>\n",
    "\n",
    "Nicht-händisches Annotatieren:\n",
    "<appInfo>\n",
    " <application version=\"1.24\" ident=\"Xaira\">\n",
    "  <label>XAIRA Indexer</label>\n",
    "  <ptr target=\"#P1\"/>\n",
    " </application>\n",
    "</appInfo>\n",
    "(innerhalb der encodingDesc)\n",
    "\n",
    "Erstelldatum des originalen (naja, nicht ganz korrekt, das ist kompliziert, aber wir machen ja keine Edition) Dokuments:\n",
    "<creation>\n",
    " <date when=\"1988-07-10\">10 July 1988</date>\n",
    "</creation>\n",
    "\n",
    "oder, vielleicht passender:\n",
    "<settingDesc>\n",
    "  <setting>\n",
    "   <name>Paris, France</name>\n",
    "   <time>Late 19th century</time>\n",
    "  </setting>\n",
    " </settingDesc>\n"
   ]
  },
  {
   "cell_type": "code",
   "execution_count": null,
   "metadata": {},
   "outputs": [],
   "source": [
    "import glob\n",
    "import os\n",
    "import pprint as pp\n",
    "\n",
    "filepaths = []\n",
    "for infile in glob.glob(\"../auto_tagged/*.xml\"):\n",
    "    # fix sorting\n",
    "    basename = os.path.basename(infile)\n",
    "    num = int(basename.replace(\".xml\", \"\"))\n",
    "    filepaths.append((num, infile))\n",
    "filepaths = sorted(filepaths, key=lambda x: x[0])"
   ]
  },
  {
   "cell_type": "code",
   "execution_count": 6,
   "metadata": {},
   "outputs": [],
   "source": [
    "import glob\n",
    "import os\n",
    "import pprint as pp\n",
    "\n",
    "filepaths = sorted(glob.glob(\"../outfiles/*.xml\"))"
   ]
  },
  {
   "cell_type": "code",
   "execution_count": 11,
   "metadata": {},
   "outputs": [
    {
     "name": "stdout",
     "output_type": "stream",
     "text": [
      "['admin_004_HGB_1_013_012_066.xml', 'admin_009_HGB_1_024_108_011.xml', 'admin_018_HGB_1_051_086_076.xml', 'admin_072_HGB_1_177_032_049.xml', 'admin_085_HGB_1_203_011_031.xml', 'admin_HGB_Exp_11_009_HGB_1_010_067_052.xml', 'admin_HGB_Exp_11_014_HGB_1_010_119_004.xml', 'admin_HGB_Exp_11_031_HGB_1_058_020_022.xml', 'admin_HGB_Exp_11_109_HGB_1_151_016_030.xml', 'admin_HGB_Exp_11_111_HGB_1_153_016_026.xml', 'admin_HGB_Exp_11_112_HGB_1_154_040_010.xml', 'admin_HGB_Exp_5_044_HGB_1_122_018_011.xml', 'admin_HGB_Exp_5_047_HGB_1_133_027_010.xml', 'admin_HGB_Exp_5_052_HGB_1_145_027_014.xml', 'admin_HGB_Exp_5_054_HGB_1_146_025_019.xml', 'admin_HGB_Exp_5_078_HGB_1_189_054_014.xml', 'admin_HGB_Exp_6_017_HGB_1_050_037_030.xml', 'admin_HGB_Exp_6_035_HGB_1_063_109_029.xml', 'admin_HGB_Exp_6_047_HGB_1_085_027_032.xml', 'admin_HGB_Exp_6_055_HGB_1_113_024_004.xml', 'admin_HGB_Exp_6_060_HGB_1_145_012_022.xml', 'admin_HGB_Exp_6_065_HGB_1_154_027_008.xml', 'admin_HGB_Exp_6_082_HGB_1_189_063_004.xml', 'admin_HGB_Exp_8_013_HGB_1_008_050_024.xml', 'admin_HGB_Exp_8_019_HGB_1_013_013_008.xml', 'admin_HGB_Exp_8_071_HGB_1_064_009_037.xml', 'admin_HGB_Exp_8_080_HGB_1_078_021_048.xml', 'admin_HGB_Exp_8_116_HGB_1_122_032_041.xml', 'admin_HGB_Exp_8_148_HGB_1_160_022_034.xml', 'admin_HGB_Exp_8_153_HGB_1_168_076_027.xml', 'bhitz_HGB_Exp_3_004_HGB_1_002_103_050.xml', 'bhitz_HGB_Exp_3_017_HGB_1_028_051_049.xml', 'bhitz_HGB_Exp_3_027_HGB_1_063_036_036.xml', 'bhitz_HGB_Exp_3_034_HGB_1_074_055_006.xml', 'bhitz_HGB_Exp_3_036_HGB_1_078_075_022.xml', 'bhitz_HGB_Exp_3_047_HGB_1_131_012_041.xml', 'bhitz_HGB_Exp_3_051_HGB_1_146_021_023.xml', 'bhitz_HGB_Exp_3_061_HGB_1_159_074_018.xml', 'bhitz_HGB_Exp_3_095_HGB_1_215_015_021.xml', 'bhitz_HGB_Exp_7_001_HGB_1_002_037_017.xml', 'bhitz_HGB_Exp_7_009_HGB_1_014_041_003.xml', 'bhitz_HGB_Exp_7_011_HGB_1_024_120_048.xml', 'bhitz_HGB_Exp_7_032_HGB_1_078_025_022.xml', 'bhitz_HGB_Exp_7_035_HGB_1_085_035_031.xml', 'bhitz_HGB_Exp_7_097_HGB_1_222_021_012.xml', 'bhitz_HGB_Exp_7_099_HGB_1_227_042_010.xml', 'kfuchs_045_HGB_1_093_021_006.xml', 'kfuchs_058_HGB_1_154_014_014.xml', 'kfuchs_068_HGB_1_161_023_006.xml', 'kfuchs_079_HGB_1_194_079_029.xml', 'kfuchs_099_HGB_1_227_079_008.xml', 'kfuchs_HGB_Exp_10_013_HGB_1_010_058_006.xml', 'kfuchs_HGB_Exp_10_020_HGB_1_010_121_036.xml', 'kfuchs_HGB_Exp_10_026_HGB_1_023_020_006.xml', 'kfuchs_HGB_Exp_10_033_HGB_1_028_068_047.xml', 'kfuchs_HGB_Exp_4_043_HGB_1_101_017_014.xml', 'kfuchs_HGB_Exp_4_050_HGB_1_133_027_029.xml']\n"
     ]
    }
   ],
   "source": [
    "import json\n",
    "\n",
    "with open(\"../consistent_data.json\", mode=\"r\", encoding=\"utf8\") as inf:\n",
    "    cons = json.load(inf)\n",
    "\n",
    "testfiles = cons[\"test\"]\n",
    "\n",
    "print(testfiles)"
   ]
  },
  {
   "cell_type": "code",
   "execution_count": 3,
   "metadata": {},
   "outputs": [],
   "source": [
    "import csv\n",
    "\n",
    "year_dict = {}\n",
    "with open(\"../hgb_resources/hgb_page_year.csv\", mode=\"r\", encoding=\"utf8\") as inf:\n",
    "    year_reader = csv.DictReader(inf)\n",
    "    for row in year_reader:\n",
    "        year_dict[row[\"hgb_page\"]] = row[\"year\"]"
   ]
  },
  {
   "cell_type": "code",
   "execution_count": 8,
   "metadata": {},
   "outputs": [
    {
     "name": "stdout",
     "output_type": "stream",
     "text": [
      "WARNING: No year entry found for HGB_1_133_031_050.xml!\n"
     ]
    }
   ],
   "source": [
    "from lxml import etree as et\n",
    "from datetime import date\n",
    "\n",
    "for filepath in filepaths:\n",
    "    root = et.parse(filepath).getroot()\n",
    "    metadata = et.Element(\"Metadata\")\n",
    "    root.insert(0, metadata)\n",
    "\n",
    "    fileDesc = et.SubElement(metadata, \"FileDesc\")\n",
    "    title = et.SubElement(fileDesc, \"Title\")\n",
    "    title.text = os.path.basename(os.path.basename(filepath))\n",
    "    \n",
    "    settingDesc = et.SubElement(metadata, \"SettingDesc\")\n",
    "    time = et.SubElement(settingDesc, \"Time\")\n",
    "    basename = \"_\".join(os.path.basename(filepath).split(\"_\")[-5:])\n",
    "    try:\n",
    "        time.text = year_dict[basename.replace(\".xml\", \"\")]\n",
    "    except:\n",
    "        print(f\"WARNING: No year entry found for {basename}!\")\n",
    "\n",
    "    changelog = et.SubElement(metadata, \"ChangeLog\")\n",
    "    change = et.SubElement(changelog, \"Change\", when=str(date.today()), who=\"IP\")\n",
    "    change.text = \"Postprocessed. Annotated by a human, TODO to write here who annotated it.\"\n",
    "\n",
    "    new_filepath = filepath\n",
    "    et.ElementTree(root).write(new_filepath, pretty_print=True, xml_declaration=True, encoding='UTF-8')"
   ]
  },
  {
   "cell_type": "code",
   "execution_count": 32,
   "metadata": {},
   "outputs": [],
   "source": [
    "# spezifisch für die automatisch getaggten Dateien\n",
    "\n",
    "from lxml import etree as et\n",
    "from datetime import date\n",
    "\n",
    "for (s, filepath), testfile in zip(filepaths, testfiles):\n",
    "    cleaned_testfile = \"_\".join(testfile.split(\"_\")[-5:])\n",
    "\n",
    "    root = et.parse(filepath).getroot()\n",
    "    metadata = et.Element(\"Metadata\")\n",
    "    root.insert(0, metadata)\n",
    "\n",
    "    fileDesc = et.SubElement(metadata, \"FileDesc\")\n",
    "    title = et.SubElement(fileDesc, \"Title\")\n",
    "    title.text = os.path.basename(cleaned_testfile)\n",
    "    \n",
    "    settingDesc = et.SubElement(metadata, \"SettingDesc\")\n",
    "    time = et.SubElement(settingDesc, \"Time\")\n",
    "    time.text = year_dict[cleaned_testfile.replace(\".xml\", \"\")]\n",
    "\n",
    "    changelog = et.SubElement(metadata, \"ChangeLog\")\n",
    "    change = et.SubElement(changelog, \"Change\", when=str(date.today()), who=\"IP\")\n",
    "    change.text = \"Postprocessing of automatically annotated document. Annotation was performed by using Flair Recursive Algorithm developed by IP, using model exp_A.\"\n",
    "\n",
    "    new_filepath = os.path.join(os.path.split(filepath)[0], cleaned_testfile)\n",
    "    et.ElementTree(root).write(new_filepath, pretty_print=True, xml_declaration=True, encoding='UTF-8')"
   ]
  }
 ],
 "metadata": {
  "kernelspec": {
   "display_name": "machineLearning",
   "language": "python",
   "name": "python3"
  },
  "language_info": {
   "codemirror_mode": {
    "name": "ipython",
    "version": 3
   },
   "file_extension": ".py",
   "mimetype": "text/x-python",
   "name": "python",
   "nbconvert_exporter": "python",
   "pygments_lexer": "ipython3",
   "version": "3.8.10"
  }
 },
 "nbformat": 4,
 "nbformat_minor": 2
}
