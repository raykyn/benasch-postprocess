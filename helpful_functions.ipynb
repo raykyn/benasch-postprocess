{
 "cells": [
  {
   "cell_type": "markdown",
   "metadata": {},
   "source": [
    "The functions provided in the notebook help to quickly modify the exported data. This can also be used to modify the data and then reimport the changed files to inception."
   ]
  },
  {
   "cell_type": "code",
   "execution_count": 23,
   "metadata": {},
   "outputs": [],
   "source": [
    "# Load all files\n",
    "\n",
    "import glob\n",
    "import os\n",
    "import zipfile\n",
    "# from lxml import etree as et\n",
    "\n",
    "# Path Info\n",
    "INFOLDER = \"hgb_test\"\n",
    "\n",
    "# Which annotators to process, leave empty for all\n",
    "ANNOTATORS = [\"kfuchs\"]\n",
    "\n",
    "annotation_folder = os.path.join(INFOLDER, \"annotation\")\n",
    "\n",
    "filefolders = sorted(glob.glob(os.path.join(annotation_folder, \"*\")))\n",
    "\n",
    "xmis = []\n",
    "\n",
    "for filefolder in filefolders:\n",
    "    userfolders = sorted(glob.glob(os.path.join(filefolder, \"*.zip\")))\n",
    "\n",
    "    for userfolder in userfolders:\n",
    "        username = os.path.basename(userfolder).replace(\".zip\", \"\")\n",
    "        if username == \"INITIAL_CAS\":\n",
    "            continue\n",
    "        if ANNOTATORS and username not in ANNOTATORS:\n",
    "            continue\n",
    "        with zipfile.ZipFile(userfolder, 'r') as archive:\n",
    "            xmi = archive.read(username + \".xmi\")\n",
    "\n",
    "        xmis.append((userfolder, username + \".xmi\", xmi))"
   ]
  },
  {
   "cell_type": "code",
   "execution_count": 24,
   "metadata": {},
   "outputs": [],
   "source": [
    "# Change a one or multiple tags in each file\n",
    "import re\n",
    "\n",
    "# format: (old, new), regard regex syntax!\n",
    "change_tags = [(\"NOM\\.PER\\.GRP\\.HEIR\", \"NOM.PER.HEIR.GRP\")]\n",
    "\n",
    "for archivename, filename, content in xmis:\n",
    "    # we do this simply by searching for the tag with regex\n",
    "    content = content.decode(\"utf8\")\n",
    "    for ct in change_tags:\n",
    "        content = re.sub(f'label=\"{ct[0]}\"', f'label=\"{ct[1]}\"', content)\n",
    "\n",
    "    with zipfile.ZipFile(archivename, mode=\"w\") as archive:\n",
    "        archive.writestr(filename, content)\n",
    "\n",
    "\n",
    "    \n"
   ]
  },
  {
   "cell_type": "code",
   "execution_count": null,
   "metadata": {},
   "outputs": [],
   "source": []
  }
 ],
 "metadata": {
  "kernelspec": {
   "display_name": "Python 3",
   "language": "python",
   "name": "python3"
  },
  "language_info": {
   "codemirror_mode": {
    "name": "ipython",
    "version": 3
   },
   "file_extension": ".py",
   "mimetype": "text/x-python",
   "name": "python",
   "nbconvert_exporter": "python",
   "pygments_lexer": "ipython3",
   "version": "3.7.6"
  }
 },
 "nbformat": 4,
 "nbformat_minor": 2
}
